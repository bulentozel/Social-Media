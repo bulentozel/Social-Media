{
 "cells": [
  {
   "cell_type": "markdown",
   "metadata": {},
   "source": [
    "# Detecting the OpenMaker Opinion Leaders"
   ]
  },
  {
   "cell_type": "code",
   "execution_count": null,
   "metadata": {
    "collapsed": true
   },
   "outputs": [],
   "source": [
    "from LibOM.Tools import *"
   ]
  },
  {
   "cell_type": "markdown",
   "metadata": {},
   "source": [
    "### 1. Retrieving influencers from the Watch Tower API\n",
    "The object that connects to [the Watch Tower](http://138.68.92.181:8484/api) API in order to retrieve the list of top influencers under each technical categories such as Arduino, 3D Printing and Raspberry Pi."
   ]
  },
  {
   "cell_type": "code",
   "execution_count": null,
   "metadata": {
    "collapsed": true
   },
   "outputs": [],
   "source": [
    "ClientWT = WatchTower()\n",
    "influencer_names = ClientWT.retrieve_influencers()"
   ]
  },
  {
   "cell_type": "code",
   "execution_count": null,
   "metadata": {
    "scrolled": true
   },
   "outputs": [],
   "source": [
    "print(len(influencer_names))\n",
    "print(\"_\"*25)\n",
    "for inf in influencer_names: print(inf)"
   ]
  },
  {
   "cell_type": "markdown",
   "metadata": {},
   "source": [
    "### 2. Connecting to the Twitter API\n",
    "In order to get credentials to be able to connect to the Twitter:\n",
    "- Login to https://apps.twitter.com \n",
    " - If you already have twitter application you may use its credentials.\n",
    " - Or generate a new set of keys and tokens via \"Create a New App\" button.\n",
    "- Click \"Keys and Access Tokens\" tab and copy \"API key\", API secret\".\n",
    "- Click \"Create my Access Token\" and copy \"Access token\" and \"Access token secret\"."
   ]
  },
  {
   "cell_type": "code",
   "execution_count": null,
   "metadata": {
    "collapsed": true
   },
   "outputs": [],
   "source": [
    "Credentials = {}\n",
    "Credentials['Consumer_Key'] = \"your key\" \n",
    "Credentials['Consumer_Secret'] = \"your secret\"\n",
    "Credentials['Access_Token'] = \"your token\" \n",
    "Credentials['Access_Token_Secret'] = \"your token secret\""
   ]
  },
  {
   "cell_type": "code",
   "execution_count": null,
   "metadata": {
    "collapsed": true
   },
   "outputs": [],
   "source": [
    "T = Twitter(Credentials)"
   ]
  },
  {
   "cell_type": "code",
   "execution_count": null,
   "metadata": {
    "collapsed": true
   },
   "outputs": [],
   "source": [
    "debates = T.retrieve_tweets(influencer_names, nlatest = 10)"
   ]
  },
  {
   "cell_type": "code",
   "execution_count": null,
   "metadata": {
    "scrolled": true
   },
   "outputs": [],
   "source": [
    "for user,data in debates.items():\n",
    "    print(\"_\"*80)\n",
    "    print(\"Username: {}\".format(user))\n",
    "    print(\"Number of tweets: {}\".format(data['ntweets']))\n",
    "    print(\"-\"*20)\n",
    "    for tweet in data['content'].split(\"\\n\"): print(tweet)"
   ]
  },
  {
   "cell_type": "markdown",
   "metadata": {},
   "source": [
    "### 3. Internal dictionary based text annotaion/feature extraction\n",
    "This module will be revised. It will be the major focus of this work in further iterations. The current mapping from expressions to categories are tentative. For the time being it is mainly for a demonstrative purpose. "
   ]
  },
  {
   "cell_type": "code",
   "execution_count": null,
   "metadata": {
    "collapsed": true,
    "scrolled": false
   },
   "outputs": [],
   "source": [
    "MD = MakerDictionary()"
   ]
  },
  {
   "cell_type": "code",
   "execution_count": null,
   "metadata": {
    "collapsed": true,
    "scrolled": true
   },
   "outputs": [],
   "source": [
    "for name, code in MD.categories.items(): print name, code"
   ]
  },
  {
   "cell_type": "code",
   "execution_count": null,
   "metadata": {
    "collapsed": true,
    "scrolled": true
   },
   "outputs": [],
   "source": [
    "# The tentative list of expressions under each category:\n",
    "for category, mappings in MD.table_Mfeatures.items():\n",
    "    print \"_\"*60\n",
    "    print MD.get_category_name(category), \" :: \", category\n",
    "    print sorted(mappings['content'])"
   ]
  },
  {
   "cell_type": "markdown",
   "metadata": {},
   "source": [
    "#### Mapping expressions to categories:"
   ]
  },
  {
   "cell_type": "code",
   "execution_count": null,
   "metadata": {
    "collapsed": true,
    "scrolled": true
   },
   "outputs": [],
   "source": [
    "SB = ScoreBoard()\n",
    "for user in debates.keys():\n",
    "    ntweets = debates[user]['ntweets']\n",
    "    text = debates[user]['content']\n",
    "    nmappings, nwords, counts = extract_features(text, MD)\n",
    "    features = {\"ntweets\":ntweets, \"nwords\":nwords, \"nmappings\":nmappings, \"counts\":counts}\n",
    "    SB.add_actor(user, features)\n",
    "    print user, ntweets, nwords, nmappings\n",
    "    print counts"
   ]
  },
  {
   "cell_type": "code",
   "execution_count": null,
   "metadata": {
    "collapsed": true,
    "scrolled": true
   },
   "outputs": [],
   "source": [
    "for k, v in SB.table.items():\n",
    "    print \"_\" * 20\n",
    "    print k, v[\"ntweets\"], v[\"nwords\"], v[\"nmappings\"]\n",
    "    for type in v['scores'].keys():\n",
    "        print type, v['scores'][type]"
   ]
  },
  {
   "cell_type": "markdown",
   "metadata": {},
   "source": [
    "### 4. Computing the rankings"
   ]
  },
  {
   "cell_type": "code",
   "execution_count": null,
   "metadata": {
    "collapsed": true
   },
   "outputs": [],
   "source": [
    "SB.compute_rankings('0', 'per_word')\n",
    "SB.compute_rankings('5', 'per_word')\n",
    "SB.compute_rankings('all', 'per_word')"
   ]
  },
  {
   "cell_type": "code",
   "execution_count": null,
   "metadata": {
    "collapsed": true
   },
   "outputs": [],
   "source": [
    "def print_score_table(rankings):\n",
    "    for rtype, scores in rankings.items():\n",
    "        print \"_\"*20\n",
    "        print rtype\n",
    "        for user,score in list(scores): print user, \" : \", score"
   ]
  },
  {
   "cell_type": "code",
   "execution_count": null,
   "metadata": {
    "collapsed": true,
    "scrolled": true
   },
   "outputs": [],
   "source": [
    "print_score_table(SB.rankings)"
   ]
  },
  {
   "cell_type": "code",
   "execution_count": null,
   "metadata": {
    "collapsed": true,
    "scrolled": true
   },
   "outputs": [],
   "source": [
    "SB.get_rankings_one('7', 'per_word')\n",
    "SB.get_rankings_one('1', 'raw')\n",
    "SB.get_rankings_one('all', 'per_tweet')\n",
    "print_score_table(SB.rankings)"
   ]
  },
  {
   "cell_type": "markdown",
   "metadata": {},
   "source": [
    "#### Getting overall Makership score of an influencer:"
   ]
  },
  {
   "cell_type": "code",
   "execution_count": null,
   "metadata": {
    "collapsed": true
   },
   "outputs": [],
   "source": [
    "username = '3DPrintGirl'\n",
    "score = SB.get_score_one(username, 'all', 'per_tweet')\n",
    "print score"
   ]
  },
  {
   "cell_type": "markdown",
   "metadata": {},
   "source": [
    "#### Getting components of the overall score over mapped categories:"
   ]
  },
  {
   "cell_type": "code",
   "execution_count": null,
   "metadata": {
    "collapsed": true
   },
   "outputs": [],
   "source": [
    "cat_codes = MD.categories.values()\n",
    "sub_scores = SB.get_scores(username, cat_codes, 'per_tweet')\n",
    "print sub_scores"
   ]
  },
  {
   "cell_type": "markdown",
   "metadata": {},
   "source": [
    "### 5. Computing the makership scores of a given tweeter user and placing it on the scoreboard"
   ]
  },
  {
   "cell_type": "code",
   "execution_count": null,
   "metadata": {
    "collapsed": true
   },
   "outputs": [],
   "source": [
    "def get_anew_user_score(username):\n",
    "    tdata = ClientTwitter.accumulate_auser_tweets(username)\n",
    "    ntweets = tdata['ntweets']\n",
    "    if not ntweets: return  \n",
    "    text = tdata['content']\n",
    "    nmappings, nwords, counts = extract_features(text, MD)\n",
    "    features = {\"ntweets\":ntweets, \"nwords\":nwords, \"nmappings\":nmappings, \"counts\":counts}\n",
    "    SB.add_actor(username, features)\n",
    "    score = SB.get_score_one(username, 'all', 'per_tweet')\n",
    "    categories = MD.categories.values()\n",
    "    sub_scores = SB.get_scores(username, categories, 'per_tweet')\n",
    "    return ntweets, sub_scores"
   ]
  },
  {
   "cell_type": "code",
   "execution_count": null,
   "metadata": {
    "collapsed": true,
    "scrolled": true
   },
   "outputs": [],
   "source": [
    "for score in SB.get_rankings_one('all', 'per_tweet'): print score"
   ]
  },
  {
   "cell_type": "code",
   "execution_count": null,
   "metadata": {
    "collapsed": true,
    "scrolled": true
   },
   "outputs": [],
   "source": [
    "tweetdata = get_anew_user_score('BernieSanders')\n",
    "print \"Number of tweets used: \", tweetdata[0]\n",
    "print \"scores (theme:score)::\"\n",
    "for theme,score in tweetdata[1].items():\n",
    "    print theme, \":\", score"
   ]
  },
  {
   "cell_type": "code",
   "execution_count": null,
   "metadata": {
    "collapsed": true
   },
   "outputs": [],
   "source": [
    "print SB.get_score_one('BernieSanders', 'all', 'per_tweet')"
   ]
  },
  {
   "cell_type": "code",
   "execution_count": null,
   "metadata": {
    "collapsed": true,
    "scrolled": true
   },
   "outputs": [],
   "source": [
    "for score in SB.get_rankings_one('all', 'per_tweet'): print score"
   ]
  }
 ],
 "metadata": {
  "kernelspec": {
   "display_name": "Python 3",
   "language": "python",
   "name": "python3"
  },
  "language_info": {
   "codemirror_mode": {
    "name": "ipython",
    "version": 3
   },
   "file_extension": ".py",
   "mimetype": "text/x-python",
   "name": "python",
   "nbconvert_exporter": "python",
   "pygments_lexer": "ipython3",
   "version": "3.6.0"
  }
 },
 "nbformat": 4,
 "nbformat_minor": 1
}
