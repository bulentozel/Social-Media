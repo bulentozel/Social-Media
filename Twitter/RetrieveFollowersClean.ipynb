{
 "cells": [
  {
   "cell_type": "markdown",
   "metadata": {},
   "source": [
    "## Extracting Followers from a Twitter Account "
   ]
  },
  {
   "cell_type": "markdown",
   "metadata": {},
   "source": [
    "This notebook demostrates the way to connect to Twitter API and extract screen_names of the followers of a certain twitter user. The followers who has more than certain number of followers are selected."
   ]
  },
  {
   "cell_type": "markdown",
   "metadata": {},
   "source": [
    "### 1. Importing required python modules."
   ]
  },
  {
   "cell_type": "code",
   "execution_count": null,
   "metadata": {},
   "outputs": [],
   "source": [
    "import twitter,csv\n",
    "import pprint\n",
    "pp = pprint.PrettyPrinter()"
   ]
  },
  {
   "cell_type": "markdown",
   "metadata": {},
   "source": [
    "### 2. Connecting to the Twitter API and testing the connection."
   ]
  },
  {
   "cell_type": "markdown",
   "metadata": {},
   "source": [
    "In order to get credentials to be able to connect to the Twitter:\n",
    "- Login to https://apps.twitter.com \n",
    "- If you already have twitter application you may use its credentials.\n",
    "- If not you to generate a new set of keys and tokens via \"Create a New App\" button.\n",
    " - Click \"Keys and Access Tokens\" tab and copy \"API key\", API secret\".\n",
    " - Click \"Create my Access Token\" and copy \"Access token\" and \"Access token secret\"."
   ]
  },
  {
   "cell_type": "markdown",
   "metadata": {},
   "source": [
    "***<sub>Please note that this example demonstrates a 2-stage authentication with Twitter API. It means following this example you are able to manage an account that you own or get the credentials as described below. If you need to manage an account owned by others you need a 3-stage authentication.</sub>***"
   ]
  },
  {
   "cell_type": "code",
   "execution_count": null,
   "metadata": {},
   "outputs": [],
   "source": [
    "# following the step above copy-paste your keys and secrets. \n",
    "Consumer_Key = \"\" #\n",
    "Consumer_Secret = \"\" # API secret\n",
    "Access_Token = \"\"\n",
    "Access_Token_Secret = \"\""
   ]
  },
  {
   "cell_type": "markdown",
   "metadata": {},
   "source": [
    "### 3. Testing your connection"
   ]
  },
  {
   "cell_type": "code",
   "execution_count": null,
   "metadata": {},
   "outputs": [],
   "source": [
    "api = twitter.Api(consumer_key=Consumer_Key,\n",
    "                  consumer_secret=Consumer_Secret,\n",
    "                  access_token_key=Access_Token,\n",
    "                  access_token_secret=Access_Token_Secret)"
   ]
  },
  {
   "cell_type": "markdown",
   "metadata": {},
   "source": [
    "### 4. Retrieving followers"
   ]
  },
  {
   "cell_type": "markdown",
   "metadata": {},
   "source": [
    "Please note that sname is your screen_name that is used  is @simpolproject"
   ]
  },
  {
   "cell_type": "code",
   "execution_count": null,
   "metadata": {},
   "outputs": [],
   "source": [
    "sname = 'simpolproject' #replace it with your own Twitter screen_name\n",
    "followers = api.GetFollowers(screen_name=sname)"
   ]
  },
  {
   "cell_type": "code",
   "execution_count": null,
   "metadata": {},
   "outputs": [],
   "source": [
    "for u in followers:\n",
    "    print(u.screen_name)\n",
    "    print(u.followers_count)"
   ]
  },
  {
   "cell_type": "markdown",
   "metadata": {},
   "source": [
    "Screen names of the followers that have more than 100 followers themselves are extracted."
   ]
  },
  {
   "cell_type": "code",
   "execution_count": null,
   "metadata": {},
   "outputs": [],
   "source": [
    "followers = [u.screen_name for u in followers if u.followers_count > 100]\n",
    "print(len(followers))"
   ]
  },
  {
   "cell_type": "markdown",
   "metadata": {},
   "source": [
    "### 5. Writing the list into a CSV file."
   ]
  },
  {
   "cell_type": "code",
   "execution_count": null,
   "metadata": {},
   "outputs": [],
   "source": [
    "fname = sname + '_followers.csv'\n",
    "with open(fname, 'wb') as csvfile:\n",
    "    writer = csv.writer(csvfile, delimiter=',')\n",
    "    for f in followers:\n",
    "        writer.writerow([f])"
   ]
  }
 ],
 "metadata": {
  "kernelspec": {
   "display_name": "Python 2",
   "language": "python",
   "name": "python2"
  },
  "language_info": {
   "codemirror_mode": {
    "name": "ipython",
    "version": 2
   },
   "file_extension": ".py",
   "mimetype": "text/x-python",
   "name": "python",
   "nbconvert_exporter": "python",
   "pygments_lexer": "ipython2",
   "version": "2.7.14"
  }
 },
 "nbformat": 4,
 "nbformat_minor": 1
}
