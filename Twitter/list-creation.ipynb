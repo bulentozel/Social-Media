{
 "cells": [
  {
   "cell_type": "markdown",
   "metadata": {},
   "source": [
    "## Managing Twitter Lists"
   ]
  },
  {
   "cell_type": "markdown",
   "metadata": {},
   "source": [
    "This notebook demostrates the way to connect to Twitter API and create lists from scratch with designated members.\n",
    "The membership assignment is provided from a CSV file. A complete management pyhthon module or application can be designed on the idea."
   ]
  },
  {
   "cell_type": "markdown",
   "metadata": {},
   "source": [
    "### 1. Importing required python modules."
   ]
  },
  {
   "cell_type": "code",
   "execution_count": 1,
   "metadata": {
    "collapsed": true
   },
   "outputs": [],
   "source": [
    "import twitter,csv"
   ]
  },
  {
   "cell_type": "markdown",
   "metadata": {},
   "source": [
    "### 2. Connecting to the Twitter API and testing the connection."
   ]
  },
  {
   "cell_type": "markdown",
   "metadata": {},
   "source": [
    "In order to get credentials to be able to connect to the Twitter:\n",
    "- Login to https://apps.twitter.com \n",
    "- If you already have twitter application you may use its credentials.\n",
    "- If not you to generate a new set of keys and tokens via \"Create a New App\" button.\n",
    " - Click \"Keys and Access Tokens\" tab and copy \"API key\", API secret\".\n",
    " - Click \"Create my Access Token\" and copy \"Access token\" and \"Access token secret\"."
   ]
  },
  {
   "cell_type": "markdown",
   "metadata": {},
   "source": [
    "***<sub>Please note that this example demonstrates a 2-stage authentication with Twitter API. It means following this example you are able to manage an account that you own or get the credentials as described below. If you need to manage an account owned by others you need a 3-stage authentication.</sub>***"
   ]
  },
  {
   "cell_type": "code",
   "execution_count": 2,
   "metadata": {
    "collapsed": true
   },
   "outputs": [],
   "source": [
    "# following the step above copy-paste your keys and secrets. \n",
    "Consumer_Key = \"paste over this\" #\n",
    "Consumer_Secret = \"paste over this\" # API secret\n",
    "Access_Token = \"paste over this\"\n",
    "Access_Token_Secret = \"paste over this\""
   ]
  },
  {
   "cell_type": "code",
   "execution_count": 3,
   "metadata": {
    "collapsed": true
   },
   "outputs": [],
   "source": [
    "api = twitter.Api(consumer_key=Consumer_Key,\n",
    "                  consumer_secret=Consumer_Secret,\n",
    "                  access_token_key=Access_Token,\n",
    "                  access_token_secret=Access_Token_Secret)"
   ]
  },
  {
   "cell_type": "markdown",
   "metadata": {},
   "source": [
    "### 3. Testing your connection"
   ]
  },
  {
   "cell_type": "markdown",
   "metadata": {},
   "source": [
    "Please note that sname is your screen_name that is used for mentions: @bulentozel"
   ]
  },
  {
   "cell_type": "code",
   "execution_count": 4,
   "metadata": {},
   "outputs": [
    {
     "name": "stdout",
     "output_type": "stream",
     "text": [
      "[u'maker', u'groenekabinet', u'BokehPlots', u'leeb', u'RandomEtc', u'KevinQ', u'TheDataChef', u'pinakographos', u'ChristiansenJen', u'atogle', u'blueshirt', u'philogb', u'A_L', u'spatialanalysis', u'eschow', u'datatelling', u'vinayaksn', u'John_M_Nelson', u'cocteau', u'dominicwilcox', u'hspter', u'kevinpurdy', u'onyxfish', u'jtleek', u'andeekaplan', u'wallacetim', u'ReubenFB', u'visnut', u'b__k', u'aaronpk', u'AnnaFlagg', u'katemclean', u'animateddata', u'ashk4n', u'kristin_linn', u'ncasenmare', u'PopovichN', u'AmeliaMN', u'pbesh', u'MacDiva', u'moebio', u'iA', u'chrishwiggins', u'kleinmatic', u'riblah', u'jscarto', u'jenny8lee', u'cthydng', u'kennelliott', u'Elijah_Meeks', u'elonmusk', u'alykat', u'cambecc', u'cesifoti', u'ckreibich', u'katiepark', u'qdbui', u'michalmigurski', u'mapdragons', u'mcgeoff', u'nigelblue', u'tamaramunzner', u'mizmay', u'mattmight', u'hill6239', u'IsabelMeirelles', u'seanjtaylor', u'dancow', u'JoanieLemercier', u'GrandjeanMartin', u'deborahestrin', u'mjfoster83', u'adamrpearce', u'sjmgarnier', u'tmcw', u'zzsylvester', u'kcimc', u'eleanor_lutz', u'kimay', u'dominikus', u'gabrielflorit', u'_adparker_', u'veltman', u'stuartathompson', u'NadiehBremer', u'maartenzam', u'DataToViz', u'enjalot', u'chiquiesteban', u'nprviz', u'rightrelevance', u'FallesPopulars', u'niceyildiz', u'ozgurmumcu', u'ETemelkuran', u'elsaninmecnunu', u'BirGun_Gazetesi', u'otekilerpostasi', u'bianet_org', u'DikenComTr', u'MaysamMorr', u'bagerakbay', u'gekotek', u'DirenGezi', u'Halk_Medya', u'MucellaYapici', u'taksimdayanisma', u'ozgurv', u'sendika_org', u'hayir_tv', u'Radyo1959', u'OccupyGezi', u'aytac0x', u'zeuran', u'akincih', u'sirsureyya', u'ayagakalktaksim', u'DirenGeziParki', u'forzabesiktas', u'ceyboo', u'TheRedHack', u'drfusun_fusun', u'okanbayulgen', u'MomentExpress', u'besrayunal', u'SwingIstanbul', u'SocialWebMining', u'atilev', u'kkakkoyun', u'onderozbek', u'ardakaraduman', u'erkangur', u'damladural', u'gercekalpan', u'GalataFotograf', u'fusunkaraman', u'chazzwazzer', u'erayyucel', u'itechD', u'halukdogan', u'DVisotto', u'samilaydogan', u'fkoksal', u'OrientLindyExpr', u'heidisgrandpa', u'ercanmuskara', u'uctopcu', u'oiioxford', u'lindyshock', u'chrisjstephensn', u'LindyhopLT', u'Jakdemir', u'yilmazsd', u'aren_13', u'onurgu', u'erenturkay', u'canburak', u'taistasi', u'Goran1st', u'dilsadcelebi', u'tanbark', u'dicleozhalklar', u'BKartheuser', u'NTC_of_Libya', u'oykuisik', u'necosphere', u'cyberfart', u'DamlaSargut', u'mimhack', u'tugcetackin', u'oyayla_', u'anjaVnic', u'bilgeselen', u'collnet2011', u'ucekmez', u'paltosuz', u'cafeyedi', u'cagilulusahin', u'diyll', u'Anjazvezdica', u'Baharmur', u'gwtw', u'jinati', u'ee8800', u'arnaugomez95', u'jvelkova', u'dilekw']\n"
     ]
    }
   ],
   "source": [
    "sname = 'bulentozel' #replace it with your own Twitter screen_name\n",
    "friends = api.GetFriends()\n",
    "print([u.screen_name for u in friends])"
   ]
  },
  {
   "cell_type": "markdown",
   "metadata": {},
   "source": [
    "### 4. Clearing your lists. "
   ]
  },
  {
   "cell_type": "markdown",
   "metadata": {},
   "source": [
    "**Please BE AWARE! The code snippet would remove all of your lists!!!**"
   ]
  },
  {
   "cell_type": "code",
   "execution_count": 5,
   "metadata": {},
   "outputs": [
    {
     "name": "stdout",
     "output_type": "stream",
     "text": [
      "[]\n"
     ]
    }
   ],
   "source": [
    "lists = api.GetLists(screen_name=sname)\n",
    "for name in  [i.GetSlug() for i in lists]:\n",
    "    api.DestroyList(owner_screen_name=sname, slug = name)\n",
    "lists = api.GetLists(screen_name=sname)\n",
    "print lists"
   ]
  },
  {
   "cell_type": "markdown",
   "metadata": {},
   "source": [
    "### 5. Creating new lists based on an offline CSV file."
   ]
  },
  {
   "cell_type": "code",
   "execution_count": 6,
   "metadata": {
    "collapsed": true
   },
   "outputs": [],
   "source": [
    "def update_membership(membership, slug, name):\n",
    "    if slug in membership.keys():\n",
    "        membership[slug].append(name)\n",
    "    else:\n",
    "        membership[slug] = [name]"
   ]
  },
  {
   "cell_type": "code",
   "execution_count": 7,
   "metadata": {},
   "outputs": [
    {
     "name": "stdout",
     "output_type": "stream",
     "text": [
      "{'group1': ['maker', 'groenekabinet', 'BokehPlots'], 'group2': ['TheDataChef', 'maker']}\n"
     ]
    }
   ],
   "source": [
    "# The examplary CSV file has two columns and multiple rows. Each row denotes a membership. \n",
    "membership = dict()\n",
    "with open('example.csv', 'rb') as csvfile:\n",
    "    memberships = csv.DictReader(csvfile, delimiter=',')\n",
    "    for row in memberships:\n",
    "        screen_name = row['Screen Name']\n",
    "        slug = row['List']\n",
    "        update_membership(membership, slug,screen_name)\n",
    "print membership"
   ]
  },
  {
   "cell_type": "code",
   "execution_count": 8,
   "metadata": {},
   "outputs": [
    {
     "name": "stdout",
     "output_type": "stream",
     "text": [
      "[]\n",
      "[]\n"
     ]
    }
   ],
   "source": [
    "lists = api.GetLists(screen_name=sname)\n",
    "lists_slugs = [list.GetSlug() for list in lists]\n",
    "print lists_slugs\n",
    "print lists"
   ]
  },
  {
   "cell_type": "code",
   "execution_count": 9,
   "metadata": {},
   "outputs": [
    {
     "name": "stdout",
     "output_type": "stream",
     "text": [
      "{u'group1': ['maker', 'groenekabinet', 'BokehPlots'], u'group2': ['TheDataChef', 'maker']}\n"
     ]
    }
   ],
   "source": [
    "# Private lists are created:\n",
    "membership_slugs = dict()\n",
    "for k,v in membership.items():\n",
    "    list_object = api.CreateList(k,mode='private')\n",
    "    membership_slugs[list_object.GetSlug()] = v\n",
    "print membership_slugs"
   ]
  },
  {
   "cell_type": "code",
   "execution_count": 10,
   "metadata": {},
   "outputs": [
    {
     "name": "stdout",
     "output_type": "stream",
     "text": [
      "[u'group2', u'group1']\n",
      "[<twitter.list.List object at 0x107e80fd0>, <twitter.list.List object at 0x107e80450>]\n"
     ]
    }
   ],
   "source": [
    "# Members are added to respective lists.\n",
    "for k,v in membership_slugs.items():\n",
    "    api.CreateListsMember(slug=k,owner_screen_name=sname,screen_name=v)\n",
    "lists = api.GetLists(screen_name=sname)\n",
    "lists_slugs = [al.GetSlug() for al in lists]\n",
    "print lists_slugs\n",
    "print lists"
   ]
  },
  {
   "cell_type": "markdown",
   "metadata": {},
   "source": [
    "**Now you can check your twitter account to observe the changes.** "
   ]
  }
 ],
 "metadata": {
  "kernelspec": {
   "display_name": "Python 2",
   "language": "python",
   "name": "python2"
  },
  "language_info": {
   "codemirror_mode": {
    "name": "ipython",
    "version": 2
   },
   "file_extension": ".py",
   "mimetype": "text/x-python",
   "name": "python",
   "nbconvert_exporter": "python",
   "pygments_lexer": "ipython2",
   "version": "2.7.13"
  }
 },
 "nbformat": 4,
 "nbformat_minor": 2
}
